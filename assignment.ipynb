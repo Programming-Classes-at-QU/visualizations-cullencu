{
 "cells": [
  {
   "cell_type": "markdown",
   "metadata": {},
   "source": [
    "In the space available below, include your variable statistics and the Visualizations associated with them. These should show information that will be pertinent to your analysis. Do not choose random categories to analyze and visualize. Below the visualizations, describe what you see in the data and how it helps you understand your question.\n",
    "\n",
    "Requirements:\n",
    "\n",
    "- 1 pearson r correlation coefficient\n",
    "- 1 t-test\n",
    "- 1 ANOVA\n",
    "- 1 visualization for each of the different tests.\n",
    "- There should be at least 3 visualizations, and at least 3 different types of visualizations (e.g. scatter plot, bar chart, box plot, histogram, etc.)"
   ]
  },
  {
   "cell_type": "code",
   "execution_count": null,
   "metadata": {
    "vscode": {
     "languageId": "plaintext"
    }
   },
   "outputs": [],
   "source": []
  }
 ],
 "metadata": {
  "language_info": {
   "name": "python"
  }
 },
 "nbformat": 4,
 "nbformat_minor": 2
}

# Ensure categories are set properly
df['Genre'] = df['Genre'].astype('category')

# Split into two groups
fiction = df[df['Genre'] == 'Fiction']['Rating'].dropna()
non_fiction = df[df['Genre'] == 'Non-Fiction']['Rating'].dropna()

# T-test
t_stat, p_val = stats.ttest_ind(fiction, non_fiction, equal_var=False)
print(f"T-Test: t-statistic = {t_stat:.3f}, p-value = {p_val:.3f}")

# Box plot
sns.boxplot(x='Genre', y='Rating', data=df[df['Genre'].isin(['Fiction', 'Non-Fiction'])])
plt.title('Rating Comparison: Fiction vs Non-Fiction')
plt.show()

# Drop missing values
df_anova = df[['Book Type', 'Rating']].dropna()

# Run ANOVA
groups = [group['Rating'].values for name, group in df_anova.groupby('Book Type')]
f_stat, p = stats.f_oneway(*groups)
print(f"ANOVA: F-statistic = {f_stat:.3f}, p-value = {p:.3f}")

# Bar plot of mean rating by book type
mean_ratings = df_anova.groupby('Book Type')['Rating'].mean().reset_index()
sns.barplot(x='Book Type', y='Rating', data=mean_ratings)
plt.title('Average Rating by Book Type')
plt.xticks(rotation=45)
plt.show()
